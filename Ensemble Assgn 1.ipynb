{
 "cells": [
  {
   "cell_type": "code",
   "execution_count": 1,
   "id": "f65a8abd-7912-4c92-98ad-79aa64121b04",
   "metadata": {},
   "outputs": [],
   "source": [
    "#Q1. What is an ensemble technique in machine learning?"
   ]
  },
  {
   "cell_type": "code",
   "execution_count": 2,
   "id": "8a845072-c384-454e-aafe-5affeb02cb32",
   "metadata": {},
   "outputs": [],
   "source": [
    "#In this ensemble technique, machine learning professionals use a number of models for making predictions about each\n",
    "#data point. The predictions made by different models are taken as separate votes. Subsequently, the prediction made \n",
    "#by most models is treated as the ultimate prediction."
   ]
  },
  {
   "cell_type": "code",
   "execution_count": 3,
   "id": "e87c3355-d34a-4afb-a3d6-1da1edd498bb",
   "metadata": {},
   "outputs": [],
   "source": [
    "#Q2. Why are ensemble techniques used in machine learning?"
   ]
  },
  {
   "cell_type": "code",
   "execution_count": 4,
   "id": "75c5fb89-aba0-475e-b87c-a784b293c260",
   "metadata": {},
   "outputs": [],
   "source": [
    "#In learning models, noise, variance, and bias are the major sources of error. The ensemble methods in machine \n",
    "#learning help minimize these error-causing factors, thereby ensuring the accuracy and stability of machine learning\n",
    "#(ML) algorithms."
   ]
  },
  {
   "cell_type": "code",
   "execution_count": 5,
   "id": "81e2ff91-0c7f-4bf6-b4db-3251298c05ef",
   "metadata": {},
   "outputs": [],
   "source": [
    "#Q3. What is bagging?"
   ]
  },
  {
   "cell_type": "code",
   "execution_count": 6,
   "id": "808ace33-14dc-4ad9-895b-fe7858c794e0",
   "metadata": {},
   "outputs": [],
   "source": [
    "#Bagging, also known as Bootstrap aggregating, is an ensemble learning technique that helps to improve the \n",
    "#performance and accuracy of machine learning algorithms. It is used to deal with bias-variance trade-offs and \n",
    "#reduces the variance of a prediction model."
   ]
  },
  {
   "cell_type": "code",
   "execution_count": 7,
   "id": "d7ff15a1-530a-4c07-b428-f57dbe2c72f5",
   "metadata": {},
   "outputs": [],
   "source": [
    "#Q4. What is boosting?"
   ]
  },
  {
   "cell_type": "code",
   "execution_count": 8,
   "id": "6c6b4b0b-236c-4163-8283-4ad0361655c2",
   "metadata": {},
   "outputs": [],
   "source": [
    "#Boosting is an ensemble learning method that combines a set of weak learners into a strong learner to\n",
    "#minimize training errors."
   ]
  },
  {
   "cell_type": "code",
   "execution_count": 10,
   "id": "a2f960ba-d49c-4c66-a81a-2a4ca1c8b5af",
   "metadata": {},
   "outputs": [],
   "source": [
    "#Q5. What are the benefits of using ensemble techniques?"
   ]
  },
  {
   "cell_type": "code",
   "execution_count": 12,
   "id": "b438c213-432e-4a99-909e-69387195bba6",
   "metadata": {},
   "outputs": [],
   "source": [
    "#There are two main reasons to use an ensemble over a single model, and they are related; they are:\n",
    "#Performance: An ensemble can make better predictions and achieve better performance than any single contributing \n",
    "#model.\n",
    "#Robustness: An ensemble reduces the spread or dispersion of the predictions and model performance."
   ]
  },
  {
   "cell_type": "code",
   "execution_count": 13,
   "id": "2b4218aa-7074-48f1-af71-3b5f3bef3b54",
   "metadata": {},
   "outputs": [],
   "source": [
    "#Q6. Are ensemble techniques always better than individual models?"
   ]
  },
  {
   "cell_type": "code",
   "execution_count": 14,
   "id": "225a60be-2736-4d13-b1ae-d45e911d1ad6",
   "metadata": {},
   "outputs": [],
   "source": [
    "#There are two main reasons to use an ensemble over a single model, and they are related; they are: Performance: An\n",
    "#ensemble can make better predictions and achieve better performance than any single contributing model.\n",
    "#Robustness: An ensemble reduces the spread or dispersion of the predictions and model performance."
   ]
  },
  {
   "cell_type": "code",
   "execution_count": 15,
   "id": "ccd5ed24-e5bd-425b-baa7-4c8baa117019",
   "metadata": {},
   "outputs": [],
   "source": [
    "#Q7. How is the confidence interval calculated using bootstrap?"
   ]
  },
  {
   "cell_type": "code",
   "execution_count": 16,
   "id": "71f09f48-641b-4e2a-a756-4a8a012b346b",
   "metadata": {},
   "outputs": [],
   "source": [
    "#multiplying the standard error by a constant that reflects the level of significance desired, based on the\n",
    "#normal distribution.\n",
    "#ci = bootci( nboot , bootfun , d ) computes a 95% bootstrap confidence interval for each statistic computed by \n",
    "#the function bootfun . The bootci function uses nboot bootstrap samples in its computation, and creates each\n",
    "#bootstrap sample by sampling with replacement from the rows of d ."
   ]
  },
  {
   "cell_type": "code",
   "execution_count": 17,
   "id": "a169cfaf-129f-4616-aa0b-4a1a8542e361",
   "metadata": {},
   "outputs": [],
   "source": [
    "#Q8. How does bootstrap work and What are the steps involved in bootstrap?"
   ]
  },
  {
   "cell_type": "code",
   "execution_count": 18,
   "id": "f84aab59-3f96-40e1-8a32-5bfe217f22d5",
   "metadata": {},
   "outputs": [],
   "source": [
    "#Bootstrap is a free, open source front-end development framework for the creation of websites and web apps.\n",
    "#Designed to enable responsive development of mobile-first websites, Bootstrap provides a collection of syntax for \n",
    "#template designs.\n",
    "\n",
    "#Create First Web Page With Bootstrap\n",
    "#Add the HTML5 doctype. Bootstrap uses HTML elements and CSS properties that require the HTML5 doctype. ...\n",
    "#Bootstrap 3 is mobile-first. Bootstrap 3 is designed to be responsive to mobile devices. ...\n",
    "#Containers. Bootstrap also requires a containing element to wrap site contents."
   ]
  },
  {
   "cell_type": "code",
   "execution_count": 19,
   "id": "575a2600-902b-480d-9205-32ef96b241f6",
   "metadata": {},
   "outputs": [],
   "source": [
    "#Q9. A researcher wants to estimate the mean height of a population of trees. They measure the height of a\n",
    "#sample of 50 trees and obtain a mean height of 15 meters and a standard deviation of 2 meters. Use\n",
    "#bootstrap to estimate the 95% confidence interval for the population mean height."
   ]
  },
  {
   "cell_type": "code",
   "execution_count": null,
   "id": "8c2d8b3d-4002-4c71-bb42-ec5682b27e06",
   "metadata": {},
   "outputs": [],
   "source": []
  }
 ],
 "metadata": {
  "kernelspec": {
   "display_name": "Python 3 (ipykernel)",
   "language": "python",
   "name": "python3"
  },
  "language_info": {
   "codemirror_mode": {
    "name": "ipython",
    "version": 3
   },
   "file_extension": ".py",
   "mimetype": "text/x-python",
   "name": "python",
   "nbconvert_exporter": "python",
   "pygments_lexer": "ipython3",
   "version": "3.10.8"
  }
 },
 "nbformat": 4,
 "nbformat_minor": 5
}
